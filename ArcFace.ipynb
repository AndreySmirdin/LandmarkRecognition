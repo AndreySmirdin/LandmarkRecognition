{
 "cells": [
  {
   "cell_type": "code",
   "execution_count": 11,
   "metadata": {},
   "outputs": [],
   "source": [
    "from time import sleep\n",
    "import pickle\n",
    "import os\n",
    "import shutil\n",
    "from collections import Counter\n",
    "from threading import Thread\n",
    "import queue\n",
    "from tqdm.auto import tqdm\n",
    "import numpy as np\n",
    "import matplotlib.pyplot as plt\n",
    "from PIL import Image\n",
    "import pandas as pd\n",
    "\n",
    "import torch\n",
    "import torch.nn as nn\n",
    "import torch.nn.functional as F\n",
    "import torchvision\n",
    "from torch.utils.data import DataLoader, Dataset\n",
    "from sklearn.metrics import accuracy_score, confusion_matrix\n",
    "from sklearn.metrics.pairwise import cosine_similarity\n",
    "import plotly.graph_objects as go\n",
    "from sklearn.metrics.pairwise import cosine_similarity\n",
    "\n",
    "from src.utils import load_model, get_dataloaders, load_images_in_folder, show_images, modify_keys, save_results, transforms\n",
    "from src.center_loss import CenterLoss\n",
    "from arc_face import FocalLoss, SphereProduct, ArcMarginProduct, AdaCos\n",
    "from src.train import train_model"
   ]
  },
  {
   "cell_type": "code",
   "execution_count": 12,
   "metadata": {},
   "outputs": [
    {
     "name": "stdout",
     "output_type": "stream",
     "text": [
      "cuda:0\n"
     ]
    }
   ],
   "source": [
    "lr = 0.0001\n",
    "batch_size = 32\n",
    "num_epochs = 80\n",
    "\n",
    "TRAIN_PATH = '/mnt/hdd/1/imageData/train/russianDataCleanAdded'\n",
    "TEST_PATH = '/mnt/hdd/1/imageData/index/russianDataCleanAdded'\n",
    "num_classes = len(os.listdir(TRAIN_PATH))\n",
    "    \n",
    "state_path = 'state_arcface.pkl'\n",
    "model_name = 'arcfaceloss'\n",
    "\n",
    "device = torch.device(\"cuda:0\" if torch.cuda.is_available() else \"cpu\")\n",
    "print(device)\n",
    "\n",
    "datasets, dataloaders = get_dataloaders(TRAIN_PATH, TEST_PATH, batch_size)"
   ]
  },
  {
   "cell_type": "code",
   "execution_count": 13,
   "metadata": {},
   "outputs": [],
   "source": [
    "class ArcFace(nn.Module):\n",
    "    def __init__(self):\n",
    "        super(ArcFace, self).__init__()\n",
    "        self.model = torchvision.models.resnet50(pretrained=True)\n",
    "        in_features = self.model.fc.in_features\n",
    "        self.model.fc = nn.Sequential(nn.Linear(in_features, 512), \n",
    "                                      nn.ReLU(),\n",
    "                                      nn.Dropout(0.4),\n",
    "                                     )\n",
    "        s=30.0\n",
    "        margin=0.50\n",
    "        ls_eps=0.0\n",
    "        theta_zero=0.785\n",
    "        self.sphere = ArcMarginProduct(512, num_classes,\n",
    "                                       s=s, m=margin, easy_margin=False, ls_eps=ls_eps)\n",
    "#         self.sphere = AdaCos(512, num_classes, m=margin, theta_zero=theta_zero)\n",
    "        \n",
    "    def __call__(self, x, label):\n",
    "        y = self.model(x)\n",
    "        return y, self.sphere(y, label)\n",
    "    \n",
    "    def check_predictions(self, dataloader):\n",
    "        ys = []\n",
    "        pred = []\n",
    "        with torch.no_grad():\n",
    "            for x, y in tqdm(dataloader):\n",
    "                output = self(x.to(device), y.to(device))\n",
    "                pred.append(torch.argmax(output, dim=1))\n",
    "                ys.extend(y)\n",
    "        correct = {}\n",
    "        pred = torch.cat(pred).cpu()\n",
    "\n",
    "        for y, p in zip(ys, pred.cpu()):\n",
    "            correct[y.item()] = correct.get(y.item(), np.array([0, 0])) + np.array([y == p, 1])\n",
    "        return accuracy_score(ys, pred), correct\n",
    "        \n",
    "    def confusion_matrix(self, dataloader):\n",
    "        ys = []\n",
    "        pred = []\n",
    "        with torch.no_grad():\n",
    "            for x, y in dataloader:\n",
    "                output = self(x.to(device))\n",
    "                pred.append(torch.argmax(output, dim=1))\n",
    "                ys.extend(y)\n",
    "        return confusion_matrix(ys, torch.cat(pred).cpu())\n",
    "    \n",
    "    def predictions_for_class(self, x):\n",
    "        with torch.no_grad():\n",
    "            output = self(x.to(device))\n",
    "            return torch.sort(torch.softmax(output.cpu(), dim=1), dim=1)\n",
    "    "
   ]
  },
  {
   "cell_type": "code",
   "execution_count": 4,
   "metadata": {},
   "outputs": [],
   "source": [
    "model = ArcFace().to(device)\n",
    "optimizer = torch.optim.Adam(model.parameters(), lr=lr)\n",
    "criterion = nn.CrossEntropyLoss()\n",
    "# train_loss, val_loss = train_model(dataloaders, device, model, criterion, optimizer, state_path, model_name, num_epochs=num_epochs,\n",
    "#                                   continue_train=True, arcface=True)"
   ]
  },
  {
   "cell_type": "code",
   "execution_count": 14,
   "metadata": {},
   "outputs": [
    {
     "data": {
      "image/png": "[encoded data removed]",
      "text/plain": [
       "<Figure size 432x288 with 1 Axes>"
      ]
     },
     "metadata": {
      "needs_background": "light"
     },
     "output_type": "display_data"
    }
   ],
   "source": [
    "with open(state_path, 'rb') as f:\n",
    "    state = pickle.load(f)\n",
    "train_loss = state['loss']\n",
    "val_loss = state['val_losses']\n",
    "\n",
    "plt.plot(np.arange(len(train_loss)), train_loss)\n",
    "plt.plot(np.arange(len(val_loss)), val_loss)\n",
    "plt.legend(('train', 'validation'));"
   ]
  },
  {
   "cell_type": "code",
   "execution_count": 15,
   "metadata": {},
   "outputs": [
    {
     "data": {
      "text/plain": [
       "[0.15472819437161336,\n",
       " 0.28725747246984795,\n",
       " 0.3590980597797588,\n",
       " 0.41545184408320224,\n",
       " 0.4623317601817864,\n",
       " 0.5119035133717882,\n",
       " 0.5380178290508653,\n",
       " 0.5590281419332285,\n",
       " 0.5772766998776437,\n",
       " 0.6045446600244713,\n",
       " 0.6197517916448173,\n",
       " 0.6408320223737108,\n",
       " 0.6490823282642895,\n",
       " 0.6637650760356582,\n",
       " 0.6778185631882538,\n",
       " 0.6813494144380353,\n",
       " 0.6970110120608285,\n",
       " 0.6969061352910331,\n",
       " 0.7106100332109772,\n",
       " 0.7136514595350463,\n",
       " 0.7183709141758434,\n",
       " 0.7226708617374585,\n",
       " 0.734976402726796,\n",
       " 0.734976402726796,\n",
       " 0.7385072539765776,\n",
       " 0.7446949833945115,\n",
       " 0.74759657402552,\n",
       " 0.7510575074287712,\n",
       " 0.7565110994581367,\n",
       " 0.7643768571927985,\n",
       " 0.765775214123405,\n",
       " 0.7665443104352386,\n",
       " 0.7722426149274603]"
      ]
     },
     "execution_count": 15,
     "metadata": {},
     "output_type": "execute_result"
    }
   ],
   "source": [
    "state['accuracy']"
   ]
  },
  {
   "cell_type": "code",
   "execution_count": 16,
   "metadata": {},
   "outputs": [],
   "source": [
    "epoch = 32 #48\n",
    "model2 = ArcFace().to(device)\n",
    "model2 = load_model(model2, model_name, epoch) #'moredata_centerloss'\n",
    "model2.eval();"
   ]
  },
  {
   "cell_type": "code",
   "execution_count": 9,
   "metadata": {},
   "outputs": [
    {
     "data": {
      "application/vnd.jupyter.widget-view+json": {
       "model_id": "e52f33985acc4034b19c87966c04e205",
       "version_major": 2,
       "version_minor": 0
      },
      "text/plain": [
       "HBox(children=(FloatProgress(value=0.0, max=5388.0), HTML(value='')))"
      ]
     },
     "metadata": {},
     "output_type": "display_data"
    },
    {
     "name": "stdout",
     "output_type": "stream",
     "text": [
      "\n"
     ]
    }
   ],
   "source": [
    "def calc_centroids(model, loader, path='models/centers_arcface.pkl'):\n",
    "#     if os.path.exists(path):\n",
    "#         with open(path, 'rb') as f:\n",
    "#             return pickle.load(f)\n",
    "    centers = np.zeros((num_classes, 512))\n",
    "    cnt = np.zeros(num_classes)\n",
    "    for x, y in tqdm(loader):\n",
    "        feat, _ = model(x.to(device), y.to(device))\n",
    "        centers[y] += feat.detach().cpu().numpy()\n",
    "        cnt[y] += 1\n",
    "        \n",
    "    for i in range(num_classes):\n",
    "        centers[i] /= (cnt[i] + 0.0000001)\n",
    "    centers = centers[:-1]\n",
    "    with open(path, 'wb') as f:\n",
    "        pickle.dump(centers, f)\n",
    "        \n",
    "    return centers\n",
    "\n",
    "\n",
    "centers = calc_centroids(model2, dataloaders['train'])"
   ]
  },
  {
   "cell_type": "code",
   "execution_count": 17,
   "metadata": {},
   "outputs": [
    {
     "data": {
      "application/vnd.jupyter.widget-view+json": {
       "model_id": "f21a7ee191f04ec5b992931b6e71d00d",
       "version_major": 2,
       "version_minor": 0
      },
      "text/plain": [
       "HBox(children=(FloatProgress(value=0.0, max=894.0), HTML(value='')))"
      ]
     },
     "metadata": {},
     "output_type": "display_data"
    },
    {
     "name": "stdout",
     "output_type": "stream",
     "text": [
      "\n"
     ]
    }
   ],
   "source": [
    "def check_classes(a, b):\n",
    "    datasets['train'].classes\n",
    "\n",
    "def centroid_test(loader):\n",
    "    correct = 0\n",
    "    for x, y in tqdm(loader):\n",
    "        features, _ = model2(x.to(device), y.to(device))\n",
    "        for xx, yy in zip(features, y):\n",
    "            d = cosine_similarity(centers, \n",
    "                                  xx.detach().cpu().reshape(1, -1)).reshape(-1)\n",
    "            if d.argmax() == yy:\n",
    "                correct += 1\n",
    "            \n",
    "    return correct\n",
    "\n",
    "res = centroid_test(dataloaders['test']) "
   ]
  },
  {
   "cell_type": "code",
   "execution_count": 19,
   "metadata": {},
   "outputs": [
    {
     "data": {
      "text/plain": [
       "0.8504457262716308"
      ]
     },
     "execution_count": 19,
     "metadata": {},
     "output_type": "execute_result"
    }
   ],
   "source": [
    "res / len(datasets['test'])"
   ]
  },
  {
   "cell_type": "code",
   "execution_count": null,
   "metadata": {},
   "outputs": [],
   "source": []
  }
 ],
 "metadata": {
  "kernelspec": {
   "display_name": "Python 3",
   "language": "python",
   "name": "python3"
  },
  "language_info": {
   "codemirror_mode": {
    "name": "ipython",
    "version": 3
   },
   "file_extension": ".py",
   "mimetype": "text/x-python",
   "name": "python",
   "nbconvert_exporter": "python",
   "pygments_lexer": "ipython3",
   "version": "3.7.7"
  }
 },
 "nbformat": 4,
 "nbformat_minor": 2
}
